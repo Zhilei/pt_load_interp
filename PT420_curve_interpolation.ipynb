{
 "cells": [
  {
   "cell_type": "code",
   "execution_count": null,
   "metadata": {},
   "outputs": [],
   "source": [
    "import numpy as np\n",
    "from astropy.table import Table\n",
    "from scipy.interpolate import griddata\n",
    "import matplotlib.pyplot as plt\n",
    "%matplotlib notebook\n",
    "\n",
    "filename_PT420_1 = 'data/20190427_PT_420_180515A.txt'\n",
    "filename_PT420_2 = 'data/20190503_PT_420_190212A.txt'"
   ]
  },
  {
   "cell_type": "code",
   "execution_count": null,
   "metadata": {},
   "outputs": [],
   "source": [
    "filename = filename_PT420_2\n",
    "t0 = Table.read(filename, format='ascii')\n",
    "print('Loaded data file: %s'%filename)\n",
    "points = np.array(list(zip(t0['T_4K'].data, t0['T_40K'].data)))"
   ]
  },
  {
   "cell_type": "code",
   "execution_count": null,
   "metadata": {},
   "outputs": [],
   "source": [
    "t_4K = 4\n",
    "t_40K = 35\n",
    "interpolate_method = 'linear'\n",
    "func_4K = griddata(points, t0['P_4K'].data, (t_4K, t_40K), method=interpolate_method)\n",
    "func_40K = griddata(points, t0['P_40K'].data, (t_4K, t_40K), method=interpolate_method)"
   ]
  },
  {
   "cell_type": "code",
   "execution_count": null,
   "metadata": {},
   "outputs": [],
   "source": [
    "print('40K loading:%f'%func_40K)\n",
    "print('4K loading:%f'%func_4K)"
   ]
  },
  {
   "cell_type": "code",
   "execution_count": null,
   "metadata": {},
   "outputs": [],
   "source": [
    "err4k = 0.02\n",
    "err40k = 0.1\n",
    "\n",
    "for i in range(3):\n",
    "    t_4K_t = t_4K + (i-1)*err4k\n",
    "    for j in range(3):\n",
    "        t_40K_t = t_40K + (j-1)*err40k\n",
    "        interpolate_method = 'linear'\n",
    "        func_4K = griddata(points, t0['P_4K'].data, (t_4K_t, t_40K_t), method=interpolate_method)\n",
    "        func_40K = griddata(points, t0['P_40K'].data, (t_4K_t, t_40K_t), method=interpolate_method)\n",
    "        print(t_4K_t,'K, ', t_40K_t,'K, ', func_4K, 'W, ', func_40K, 'W')"
   ]
  },
  {
   "cell_type": "code",
   "execution_count": null,
   "metadata": {},
   "outputs": [],
   "source": [
    "print('40K loading:%f'%func_40K)\n",
    "print('4K loading:%f'%func_4K)"
   ]
  },
  {
   "cell_type": "code",
   "execution_count": null,
   "metadata": {},
   "outputs": [],
   "source": []
  }
 ],
 "metadata": {
  "kernelspec": {
   "display_name": "Python 3",
   "language": "python",
   "name": "python3"
  },
  "language_info": {
   "codemirror_mode": {
    "name": "ipython",
    "version": 3
   },
   "file_extension": ".py",
   "mimetype": "text/x-python",
   "name": "python",
   "nbconvert_exporter": "python",
   "pygments_lexer": "ipython3",
   "version": "3.7.6"
  }
 },
 "nbformat": 4,
 "nbformat_minor": 2
}
